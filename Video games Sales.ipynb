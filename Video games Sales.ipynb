{
 "cells": [
  {
   "cell_type": "markdown",
   "metadata": {},
   "source": [
    "## Video games Sales :"
   ]
  },
  {
   "cell_type": "markdown",
   "metadata": {},
   "source": [
    "Rank - Ranking of overall sales\n",
    "\n",
    "Name - The games name\n",
    "\n",
    "Platform - Platform of the games release (i.e. PC,PS4, etc.)\n",
    "\n",
    "Year - Year of the game's release\n",
    "\n",
    "Genre - Genre of the game\n",
    "\n",
    "Publisher - Publisher of the game\n",
    "\n",
    "NA_Sales - Sales in North America (in millions)\n",
    "\n",
    "EU_Sales - Sales in Europe (in millions)\n",
    "\n",
    "JP_Sales - Sales in Japan (in millions)\n",
    "\n",
    "Other_Sales - Sales in the rest of the world (in millions)\n",
    "\n",
    "Global_Sales - Total worldwide sales."
   ]
  },
  {
   "cell_type": "code",
   "execution_count": 157,
   "metadata": {},
   "outputs": [],
   "source": [
    "import numpy as np\n",
    "import pandas as pd\n",
    "# import matplotlib\n",
    "import matplotlib.pyplot as plt\n",
    "matplotlib.style.use('ggplot')\n",
    "import seaborn as sns\n",
    "%matplotlib inline"
   ]
  },
  {
   "cell_type": "code",
   "execution_count": 6,
   "metadata": {},
   "outputs": [],
   "source": [
    "df = pd.read_csv('vgsales.csv')"
   ]
  },
  {
   "cell_type": "code",
   "execution_count": 126,
   "metadata": {},
   "outputs": [
    {
     "data": {
      "text/html": [
       "<div>\n",
       "<style scoped>\n",
       "    .dataframe tbody tr th:only-of-type {\n",
       "        vertical-align: middle;\n",
       "    }\n",
       "\n",
       "    .dataframe tbody tr th {\n",
       "        vertical-align: top;\n",
       "    }\n",
       "\n",
       "    .dataframe thead th {\n",
       "        text-align: right;\n",
       "    }\n",
       "</style>\n",
       "<table border=\"1\" class=\"dataframe\">\n",
       "  <thead>\n",
       "    <tr style=\"text-align: right;\">\n",
       "      <th></th>\n",
       "      <th>Rank</th>\n",
       "      <th>Name</th>\n",
       "      <th>Platform</th>\n",
       "      <th>Year</th>\n",
       "      <th>Genre</th>\n",
       "      <th>Publisher</th>\n",
       "      <th>NA_Sales</th>\n",
       "      <th>EU_Sales</th>\n",
       "      <th>JP_Sales</th>\n",
       "      <th>Other_Sales</th>\n",
       "      <th>Global_Sales</th>\n",
       "      <th>No. of game</th>\n",
       "    </tr>\n",
       "  </thead>\n",
       "  <tbody>\n",
       "    <tr>\n",
       "      <td>0</td>\n",
       "      <td>1</td>\n",
       "      <td>Wii Sports</td>\n",
       "      <td>Wii</td>\n",
       "      <td>2006</td>\n",
       "      <td>Sports</td>\n",
       "      <td>Nintendo</td>\n",
       "      <td>41.49</td>\n",
       "      <td>29.02</td>\n",
       "      <td>3.77</td>\n",
       "      <td>8.46</td>\n",
       "      <td>82.74</td>\n",
       "      <td>1</td>\n",
       "    </tr>\n",
       "    <tr>\n",
       "      <td>1</td>\n",
       "      <td>2</td>\n",
       "      <td>Super Mario Bros.</td>\n",
       "      <td>NES</td>\n",
       "      <td>1985</td>\n",
       "      <td>Platform</td>\n",
       "      <td>Nintendo</td>\n",
       "      <td>29.08</td>\n",
       "      <td>3.58</td>\n",
       "      <td>6.81</td>\n",
       "      <td>0.77</td>\n",
       "      <td>40.24</td>\n",
       "      <td>1</td>\n",
       "    </tr>\n",
       "    <tr>\n",
       "      <td>2</td>\n",
       "      <td>3</td>\n",
       "      <td>Mario Kart Wii</td>\n",
       "      <td>Wii</td>\n",
       "      <td>2008</td>\n",
       "      <td>Racing</td>\n",
       "      <td>Nintendo</td>\n",
       "      <td>15.85</td>\n",
       "      <td>12.88</td>\n",
       "      <td>3.79</td>\n",
       "      <td>3.31</td>\n",
       "      <td>35.82</td>\n",
       "      <td>1</td>\n",
       "    </tr>\n",
       "    <tr>\n",
       "      <td>3</td>\n",
       "      <td>4</td>\n",
       "      <td>Wii Sports Resort</td>\n",
       "      <td>Wii</td>\n",
       "      <td>2009</td>\n",
       "      <td>Sports</td>\n",
       "      <td>Nintendo</td>\n",
       "      <td>15.75</td>\n",
       "      <td>11.01</td>\n",
       "      <td>3.28</td>\n",
       "      <td>2.96</td>\n",
       "      <td>33.00</td>\n",
       "      <td>1</td>\n",
       "    </tr>\n",
       "    <tr>\n",
       "      <td>4</td>\n",
       "      <td>5</td>\n",
       "      <td>Pokemon Red/Pokemon Blue</td>\n",
       "      <td>GB</td>\n",
       "      <td>1996</td>\n",
       "      <td>Role-Playing</td>\n",
       "      <td>Nintendo</td>\n",
       "      <td>11.27</td>\n",
       "      <td>8.89</td>\n",
       "      <td>10.22</td>\n",
       "      <td>1.00</td>\n",
       "      <td>31.37</td>\n",
       "      <td>1</td>\n",
       "    </tr>\n",
       "  </tbody>\n",
       "</table>\n",
       "</div>"
      ],
      "text/plain": [
       "   Rank                      Name Platform  Year         Genre Publisher  \\\n",
       "0     1                Wii Sports      Wii  2006        Sports  Nintendo   \n",
       "1     2         Super Mario Bros.      NES  1985      Platform  Nintendo   \n",
       "2     3            Mario Kart Wii      Wii  2008        Racing  Nintendo   \n",
       "3     4         Wii Sports Resort      Wii  2009        Sports  Nintendo   \n",
       "4     5  Pokemon Red/Pokemon Blue       GB  1996  Role-Playing  Nintendo   \n",
       "\n",
       "   NA_Sales  EU_Sales  JP_Sales  Other_Sales  Global_Sales  No. of game  \n",
       "0     41.49     29.02      3.77         8.46         82.74            1  \n",
       "1     29.08      3.58      6.81         0.77         40.24            1  \n",
       "2     15.85     12.88      3.79         3.31         35.82            1  \n",
       "3     15.75     11.01      3.28         2.96         33.00            1  \n",
       "4     11.27      8.89     10.22         1.00         31.37            1  "
      ]
     },
     "execution_count": 126,
     "metadata": {},
     "output_type": "execute_result"
    }
   ],
   "source": [
    "df.head()"
   ]
  },
  {
   "cell_type": "code",
   "execution_count": 9,
   "metadata": {},
   "outputs": [
    {
     "name": "stdout",
     "output_type": "stream",
     "text": [
      "<class 'pandas.core.frame.DataFrame'>\n",
      "RangeIndex: 16598 entries, 0 to 16597\n",
      "Data columns (total 11 columns):\n",
      "Rank            16598 non-null int64\n",
      "Name            16598 non-null object\n",
      "Platform        16598 non-null object\n",
      "Year            16327 non-null float64\n",
      "Genre           16598 non-null object\n",
      "Publisher       16540 non-null object\n",
      "NA_Sales        16598 non-null float64\n",
      "EU_Sales        16598 non-null float64\n",
      "JP_Sales        16598 non-null float64\n",
      "Other_Sales     16598 non-null float64\n",
      "Global_Sales    16598 non-null float64\n",
      "dtypes: float64(6), int64(1), object(4)\n",
      "memory usage: 1.4+ MB\n"
     ]
    }
   ],
   "source": [
    "df.info()"
   ]
  },
  {
   "cell_type": "code",
   "execution_count": 19,
   "metadata": {},
   "outputs": [
    {
     "data": {
      "text/plain": [
       "<matplotlib.axes._subplots.AxesSubplot at 0x1baafda1088>"
      ]
     },
     "execution_count": 19,
     "metadata": {},
     "output_type": "execute_result"
    },
    {
     "data": {
      "image/png": "[encoded data removed]",
      "text/plain": [
       "<Figure size 432x288 with 2 Axes>"
      ]
     },
     "metadata": {
      "needs_background": "light"
     },
     "output_type": "display_data"
    }
   ],
   "source": [
    "sns.heatmap(df.isnull())"
   ]
  },
  {
   "cell_type": "code",
   "execution_count": 25,
   "metadata": {},
   "outputs": [],
   "source": [
    "df.dropna(inplace=True)"
   ]
  },
  {
   "cell_type": "code",
   "execution_count": 26,
   "metadata": {},
   "outputs": [
    {
     "data": {
      "text/plain": [
       "<matplotlib.axes._subplots.AxesSubplot at 0x1baaf863988>"
      ]
     },
     "execution_count": 26,
     "metadata": {},
     "output_type": "execute_result"
    },
    {
     "data": {
      "image/png": "[encoded data removed]",
      "text/plain": [
       "<Figure size 432x288 with 2 Axes>"
      ]
     },
     "metadata": {
      "needs_background": "light"
     },
     "output_type": "display_data"
    }
   ],
   "source": [
    "sns.heatmap(df.isnull())"
   ]
  },
  {
   "cell_type": "code",
   "execution_count": 28,
   "metadata": {},
   "outputs": [],
   "source": [
    "df['Year'] = df['Year'].apply(np.int64)"
   ]
  },
  {
   "cell_type": "code",
   "execution_count": 114,
   "metadata": {},
   "outputs": [
    {
     "data": {
      "text/html": [
       "<div>\n",
       "<style scoped>\n",
       "    .dataframe tbody tr th:only-of-type {\n",
       "        vertical-align: middle;\n",
       "    }\n",
       "\n",
       "    .dataframe tbody tr th {\n",
       "        vertical-align: top;\n",
       "    }\n",
       "\n",
       "    .dataframe thead th {\n",
       "        text-align: right;\n",
       "    }\n",
       "</style>\n",
       "<table border=\"1\" class=\"dataframe\">\n",
       "  <thead>\n",
       "    <tr style=\"text-align: right;\">\n",
       "      <th></th>\n",
       "      <th>Rank</th>\n",
       "      <th>Name</th>\n",
       "      <th>Platform</th>\n",
       "      <th>Year</th>\n",
       "      <th>Genre</th>\n",
       "      <th>Publisher</th>\n",
       "      <th>NA_Sales</th>\n",
       "      <th>EU_Sales</th>\n",
       "      <th>JP_Sales</th>\n",
       "      <th>Other_Sales</th>\n",
       "      <th>Global_Sales</th>\n",
       "      <th>No. of game</th>\n",
       "    </tr>\n",
       "  </thead>\n",
       "  <tbody>\n",
       "    <tr>\n",
       "      <td>0</td>\n",
       "      <td>1</td>\n",
       "      <td>Wii Sports</td>\n",
       "      <td>Wii</td>\n",
       "      <td>2006</td>\n",
       "      <td>Sports</td>\n",
       "      <td>Nintendo</td>\n",
       "      <td>41.49</td>\n",
       "      <td>29.02</td>\n",
       "      <td>3.77</td>\n",
       "      <td>8.46</td>\n",
       "      <td>82.74</td>\n",
       "      <td>1</td>\n",
       "    </tr>\n",
       "    <tr>\n",
       "      <td>1</td>\n",
       "      <td>2</td>\n",
       "      <td>Super Mario Bros.</td>\n",
       "      <td>NES</td>\n",
       "      <td>1985</td>\n",
       "      <td>Platform</td>\n",
       "      <td>Nintendo</td>\n",
       "      <td>29.08</td>\n",
       "      <td>3.58</td>\n",
       "      <td>6.81</td>\n",
       "      <td>0.77</td>\n",
       "      <td>40.24</td>\n",
       "      <td>1</td>\n",
       "    </tr>\n",
       "    <tr>\n",
       "      <td>2</td>\n",
       "      <td>3</td>\n",
       "      <td>Mario Kart Wii</td>\n",
       "      <td>Wii</td>\n",
       "      <td>2008</td>\n",
       "      <td>Racing</td>\n",
       "      <td>Nintendo</td>\n",
       "      <td>15.85</td>\n",
       "      <td>12.88</td>\n",
       "      <td>3.79</td>\n",
       "      <td>3.31</td>\n",
       "      <td>35.82</td>\n",
       "      <td>1</td>\n",
       "    </tr>\n",
       "    <tr>\n",
       "      <td>3</td>\n",
       "      <td>4</td>\n",
       "      <td>Wii Sports Resort</td>\n",
       "      <td>Wii</td>\n",
       "      <td>2009</td>\n",
       "      <td>Sports</td>\n",
       "      <td>Nintendo</td>\n",
       "      <td>15.75</td>\n",
       "      <td>11.01</td>\n",
       "      <td>3.28</td>\n",
       "      <td>2.96</td>\n",
       "      <td>33.00</td>\n",
       "      <td>1</td>\n",
       "    </tr>\n",
       "    <tr>\n",
       "      <td>4</td>\n",
       "      <td>5</td>\n",
       "      <td>Pokemon Red/Pokemon Blue</td>\n",
       "      <td>GB</td>\n",
       "      <td>1996</td>\n",
       "      <td>Role-Playing</td>\n",
       "      <td>Nintendo</td>\n",
       "      <td>11.27</td>\n",
       "      <td>8.89</td>\n",
       "      <td>10.22</td>\n",
       "      <td>1.00</td>\n",
       "      <td>31.37</td>\n",
       "      <td>1</td>\n",
       "    </tr>\n",
       "    <tr>\n",
       "      <td>5</td>\n",
       "      <td>6</td>\n",
       "      <td>Tetris</td>\n",
       "      <td>GB</td>\n",
       "      <td>1989</td>\n",
       "      <td>Puzzle</td>\n",
       "      <td>Nintendo</td>\n",
       "      <td>23.20</td>\n",
       "      <td>2.26</td>\n",
       "      <td>4.22</td>\n",
       "      <td>0.58</td>\n",
       "      <td>30.26</td>\n",
       "      <td>1</td>\n",
       "    </tr>\n",
       "    <tr>\n",
       "      <td>6</td>\n",
       "      <td>7</td>\n",
       "      <td>New Super Mario Bros.</td>\n",
       "      <td>DS</td>\n",
       "      <td>2006</td>\n",
       "      <td>Platform</td>\n",
       "      <td>Nintendo</td>\n",
       "      <td>11.38</td>\n",
       "      <td>9.23</td>\n",
       "      <td>6.50</td>\n",
       "      <td>2.90</td>\n",
       "      <td>30.01</td>\n",
       "      <td>1</td>\n",
       "    </tr>\n",
       "    <tr>\n",
       "      <td>7</td>\n",
       "      <td>8</td>\n",
       "      <td>Wii Play</td>\n",
       "      <td>Wii</td>\n",
       "      <td>2006</td>\n",
       "      <td>Misc</td>\n",
       "      <td>Nintendo</td>\n",
       "      <td>14.03</td>\n",
       "      <td>9.20</td>\n",
       "      <td>2.93</td>\n",
       "      <td>2.85</td>\n",
       "      <td>29.02</td>\n",
       "      <td>1</td>\n",
       "    </tr>\n",
       "    <tr>\n",
       "      <td>8</td>\n",
       "      <td>9</td>\n",
       "      <td>New Super Mario Bros. Wii</td>\n",
       "      <td>Wii</td>\n",
       "      <td>2009</td>\n",
       "      <td>Platform</td>\n",
       "      <td>Nintendo</td>\n",
       "      <td>14.59</td>\n",
       "      <td>7.06</td>\n",
       "      <td>4.70</td>\n",
       "      <td>2.26</td>\n",
       "      <td>28.62</td>\n",
       "      <td>1</td>\n",
       "    </tr>\n",
       "    <tr>\n",
       "      <td>9</td>\n",
       "      <td>10</td>\n",
       "      <td>Duck Hunt</td>\n",
       "      <td>NES</td>\n",
       "      <td>1984</td>\n",
       "      <td>Shooter</td>\n",
       "      <td>Nintendo</td>\n",
       "      <td>26.93</td>\n",
       "      <td>0.63</td>\n",
       "      <td>0.28</td>\n",
       "      <td>0.47</td>\n",
       "      <td>28.31</td>\n",
       "      <td>1</td>\n",
       "    </tr>\n",
       "  </tbody>\n",
       "</table>\n",
       "</div>"
      ],
      "text/plain": [
       "   Rank                       Name Platform  Year         Genre Publisher  \\\n",
       "0     1                 Wii Sports      Wii  2006        Sports  Nintendo   \n",
       "1     2          Super Mario Bros.      NES  1985      Platform  Nintendo   \n",
       "2     3             Mario Kart Wii      Wii  2008        Racing  Nintendo   \n",
       "3     4          Wii Sports Resort      Wii  2009        Sports  Nintendo   \n",
       "4     5   Pokemon Red/Pokemon Blue       GB  1996  Role-Playing  Nintendo   \n",
       "5     6                     Tetris       GB  1989        Puzzle  Nintendo   \n",
       "6     7      New Super Mario Bros.       DS  2006      Platform  Nintendo   \n",
       "7     8                   Wii Play      Wii  2006          Misc  Nintendo   \n",
       "8     9  New Super Mario Bros. Wii      Wii  2009      Platform  Nintendo   \n",
       "9    10                  Duck Hunt      NES  1984       Shooter  Nintendo   \n",
       "\n",
       "   NA_Sales  EU_Sales  JP_Sales  Other_Sales  Global_Sales  No. of game  \n",
       "0     41.49     29.02      3.77         8.46         82.74            1  \n",
       "1     29.08      3.58      6.81         0.77         40.24            1  \n",
       "2     15.85     12.88      3.79         3.31         35.82            1  \n",
       "3     15.75     11.01      3.28         2.96         33.00            1  \n",
       "4     11.27      8.89     10.22         1.00         31.37            1  \n",
       "5     23.20      2.26      4.22         0.58         30.26            1  \n",
       "6     11.38      9.23      6.50         2.90         30.01            1  \n",
       "7     14.03      9.20      2.93         2.85         29.02            1  \n",
       "8     14.59      7.06      4.70         2.26         28.62            1  \n",
       "9     26.93      0.63      0.28         0.47         28.31            1  "
      ]
     },
     "execution_count": 114,
     "metadata": {},
     "output_type": "execute_result"
    }
   ],
   "source": [
    "df.head(10)"
   ]
  },
  {
   "cell_type": "code",
   "execution_count": 230,
   "metadata": {},
   "outputs": [
    {
     "data": {
      "text/plain": [
       "<matplotlib.axes._subplots.AxesSubplot at 0x1bac7762488>"
      ]
     },
     "execution_count": 230,
     "metadata": {},
     "output_type": "execute_result"
    },
    {
     "data": {
      "image/png": "[encoded data removed]",
      "text/plain": [
       "<Figure size 1080x432 with 1 Axes>"
      ]
     },
     "metadata": {
      "needs_background": "light"
     },
     "output_type": "display_data"
    }
   ],
   "source": [
    "df.head(10).plot(kind='bar',x='Name',y=['Global_Sales','NA_Sales','EU_Sales','JP_Sales'],figsize=(15,6))"
   ]
  },
  {
   "cell_type": "code",
   "execution_count": 41,
   "metadata": {},
   "outputs": [
    {
     "data": {
      "text/plain": [
       "Electronic Arts                 1339\n",
       "Activision                       966\n",
       "Namco Bandai Games               928\n",
       "Ubisoft                          918\n",
       "Konami Digital Entertainment     823\n",
       "THQ                              712\n",
       "Nintendo                         696\n",
       "Sony Computer Entertainment      682\n",
       "Sega                             632\n",
       "Take-Two Interactive             412\n",
       "Name: Publisher, dtype: int64"
      ]
     },
     "execution_count": 41,
     "metadata": {},
     "output_type": "execute_result"
    }
   ],
   "source": [
    "df['Publisher'].value_counts().head(10)"
   ]
  },
  {
   "cell_type": "code",
   "execution_count": 43,
   "metadata": {},
   "outputs": [],
   "source": [
    "df['No. of game'] = 1"
   ]
  },
  {
   "cell_type": "code",
   "execution_count": 102,
   "metadata": {},
   "outputs": [],
   "source": [
    "df1 = df.groupby('Publisher').sum()[['Global_Sales','No. of game','NA_Sales','EU_Sales','JP_Sales']].sort_values(by='Global_Sales',ascending=False)"
   ]
  },
  {
   "cell_type": "code",
   "execution_count": 103,
   "metadata": {},
   "outputs": [],
   "source": [
    "df1.reset_index(inplace=True)"
   ]
  },
  {
   "cell_type": "code",
   "execution_count": 104,
   "metadata": {},
   "outputs": [],
   "source": [
    "df1['Sale_per_game'] = df1['Global_Sales']/df1['No. of game']"
   ]
  },
  {
   "cell_type": "markdown",
   "metadata": {},
   "source": [
    "### Publishers making most number of games :"
   ]
  },
  {
   "cell_type": "code",
   "execution_count": 138,
   "metadata": {},
   "outputs": [
    {
     "data": {
      "text/html": [
       "<div>\n",
       "<style scoped>\n",
       "    .dataframe tbody tr th:only-of-type {\n",
       "        vertical-align: middle;\n",
       "    }\n",
       "\n",
       "    .dataframe tbody tr th {\n",
       "        vertical-align: top;\n",
       "    }\n",
       "\n",
       "    .dataframe thead th {\n",
       "        text-align: right;\n",
       "    }\n",
       "</style>\n",
       "<table border=\"1\" class=\"dataframe\">\n",
       "  <thead>\n",
       "    <tr style=\"text-align: right;\">\n",
       "      <th></th>\n",
       "      <th>Publisher</th>\n",
       "      <th>Global_Sales</th>\n",
       "      <th>No. of game</th>\n",
       "      <th>NA_Sales</th>\n",
       "      <th>EU_Sales</th>\n",
       "      <th>JP_Sales</th>\n",
       "      <th>Sale_per_game</th>\n",
       "    </tr>\n",
       "  </thead>\n",
       "  <tbody>\n",
       "    <tr>\n",
       "      <td>1</td>\n",
       "      <td>Electronic Arts</td>\n",
       "      <td>1093.39</td>\n",
       "      <td>1339</td>\n",
       "      <td>584.22</td>\n",
       "      <td>367.38</td>\n",
       "      <td>13.98</td>\n",
       "      <td>0.816572</td>\n",
       "    </tr>\n",
       "    <tr>\n",
       "      <td>2</td>\n",
       "      <td>Activision</td>\n",
       "      <td>721.41</td>\n",
       "      <td>966</td>\n",
       "      <td>426.01</td>\n",
       "      <td>213.72</td>\n",
       "      <td>6.54</td>\n",
       "      <td>0.746801</td>\n",
       "    </tr>\n",
       "    <tr>\n",
       "      <td>9</td>\n",
       "      <td>Namco Bandai Games</td>\n",
       "      <td>253.65</td>\n",
       "      <td>928</td>\n",
       "      <td>69.38</td>\n",
       "      <td>42.61</td>\n",
       "      <td>126.84</td>\n",
       "      <td>0.273330</td>\n",
       "    </tr>\n",
       "    <tr>\n",
       "      <td>4</td>\n",
       "      <td>Ubisoft</td>\n",
       "      <td>473.54</td>\n",
       "      <td>918</td>\n",
       "      <td>252.81</td>\n",
       "      <td>163.03</td>\n",
       "      <td>7.33</td>\n",
       "      <td>0.515839</td>\n",
       "    </tr>\n",
       "    <tr>\n",
       "      <td>7</td>\n",
       "      <td>Konami Digital Entertainment</td>\n",
       "      <td>278.56</td>\n",
       "      <td>823</td>\n",
       "      <td>88.91</td>\n",
       "      <td>68.62</td>\n",
       "      <td>90.93</td>\n",
       "      <td>0.338469</td>\n",
       "    </tr>\n",
       "    <tr>\n",
       "      <td>6</td>\n",
       "      <td>THQ</td>\n",
       "      <td>340.44</td>\n",
       "      <td>712</td>\n",
       "      <td>208.60</td>\n",
       "      <td>94.60</td>\n",
       "      <td>5.01</td>\n",
       "      <td>0.478146</td>\n",
       "    </tr>\n",
       "    <tr>\n",
       "      <td>0</td>\n",
       "      <td>Nintendo</td>\n",
       "      <td>1784.43</td>\n",
       "      <td>696</td>\n",
       "      <td>815.75</td>\n",
       "      <td>418.30</td>\n",
       "      <td>454.99</td>\n",
       "      <td>2.563836</td>\n",
       "    </tr>\n",
       "    <tr>\n",
       "      <td>3</td>\n",
       "      <td>Sony Computer Entertainment</td>\n",
       "      <td>607.28</td>\n",
       "      <td>682</td>\n",
       "      <td>265.22</td>\n",
       "      <td>187.55</td>\n",
       "      <td>74.10</td>\n",
       "      <td>0.890440</td>\n",
       "    </tr>\n",
       "    <tr>\n",
       "      <td>8</td>\n",
       "      <td>Sega</td>\n",
       "      <td>270.70</td>\n",
       "      <td>632</td>\n",
       "      <td>108.78</td>\n",
       "      <td>81.41</td>\n",
       "      <td>56.19</td>\n",
       "      <td>0.428323</td>\n",
       "    </tr>\n",
       "    <tr>\n",
       "      <td>5</td>\n",
       "      <td>Take-Two Interactive</td>\n",
       "      <td>399.30</td>\n",
       "      <td>412</td>\n",
       "      <td>220.47</td>\n",
       "      <td>117.95</td>\n",
       "      <td>5.83</td>\n",
       "      <td>0.969175</td>\n",
       "    </tr>\n",
       "  </tbody>\n",
       "</table>\n",
       "</div>"
      ],
      "text/plain": [
       "                      Publisher  Global_Sales  No. of game  NA_Sales  \\\n",
       "1               Electronic Arts       1093.39         1339    584.22   \n",
       "2                    Activision        721.41          966    426.01   \n",
       "9            Namco Bandai Games        253.65          928     69.38   \n",
       "4                       Ubisoft        473.54          918    252.81   \n",
       "7  Konami Digital Entertainment        278.56          823     88.91   \n",
       "6                           THQ        340.44          712    208.60   \n",
       "0                      Nintendo       1784.43          696    815.75   \n",
       "3   Sony Computer Entertainment        607.28          682    265.22   \n",
       "8                          Sega        270.70          632    108.78   \n",
       "5          Take-Two Interactive        399.30          412    220.47   \n",
       "\n",
       "   EU_Sales  JP_Sales  Sale_per_game  \n",
       "1    367.38     13.98       0.816572  \n",
       "2    213.72      6.54       0.746801  \n",
       "9     42.61    126.84       0.273330  \n",
       "4    163.03      7.33       0.515839  \n",
       "7     68.62     90.93       0.338469  \n",
       "6     94.60      5.01       0.478146  \n",
       "0    418.30    454.99       2.563836  \n",
       "3    187.55     74.10       0.890440  \n",
       "8     81.41     56.19       0.428323  \n",
       "5    117.95      5.83       0.969175  "
      ]
     },
     "execution_count": 138,
     "metadata": {},
     "output_type": "execute_result"
    }
   ],
   "source": [
    "df1.sort_values(by='No. of game',ascending=False).head(10)"
   ]
  },
  {
   "cell_type": "code",
   "execution_count": 226,
   "metadata": {},
   "outputs": [
    {
     "data": {
      "text/plain": [
       "<matplotlib.axes._subplots.AxesSubplot at 0x1bac6e89088>"
      ]
     },
     "execution_count": 226,
     "metadata": {},
     "output_type": "execute_result"
    },
    {
     "data": {
      "text/plain": [
       "<Figure size 720x432 with 0 Axes>"
      ]
     },
     "metadata": {},
     "output_type": "display_data"
    },
    {
     "data": {
      "image/png": "[encoded data removed]",
      "text/plain": [
       "<Figure size 720x432 with 1 Axes>"
      ]
     },
     "metadata": {
      "needs_background": "light"
     },
     "output_type": "display_data"
    }
   ],
   "source": [
    "plot1 = df1[['Publisher','No. of game']].sort_values(by='No. of game',ascending=False).head(10)\n",
    "plot1.plot(kind='bar',x='Publisher',y='No. of game',figsize=(10,6))"
   ]
  },
  {
   "cell_type": "markdown",
   "metadata": {},
   "source": [
    "### Top 10 Publishers :"
   ]
  },
  {
   "cell_type": "code",
   "execution_count": 124,
   "metadata": {},
   "outputs": [
    {
     "data": {
      "text/html": [
       "<div>\n",
       "<style scoped>\n",
       "    .dataframe tbody tr th:only-of-type {\n",
       "        vertical-align: middle;\n",
       "    }\n",
       "\n",
       "    .dataframe tbody tr th {\n",
       "        vertical-align: top;\n",
       "    }\n",
       "\n",
       "    .dataframe thead th {\n",
       "        text-align: right;\n",
       "    }\n",
       "</style>\n",
       "<table border=\"1\" class=\"dataframe\">\n",
       "  <thead>\n",
       "    <tr style=\"text-align: right;\">\n",
       "      <th></th>\n",
       "      <th>Publisher</th>\n",
       "      <th>Global_Sales</th>\n",
       "      <th>No. of game</th>\n",
       "      <th>NA_Sales</th>\n",
       "      <th>EU_Sales</th>\n",
       "      <th>JP_Sales</th>\n",
       "      <th>Sale_per_game</th>\n",
       "    </tr>\n",
       "  </thead>\n",
       "  <tbody>\n",
       "    <tr>\n",
       "      <td>0</td>\n",
       "      <td>Nintendo</td>\n",
       "      <td>1784.43</td>\n",
       "      <td>696</td>\n",
       "      <td>815.75</td>\n",
       "      <td>418.30</td>\n",
       "      <td>454.99</td>\n",
       "      <td>2.563836</td>\n",
       "    </tr>\n",
       "    <tr>\n",
       "      <td>1</td>\n",
       "      <td>Electronic Arts</td>\n",
       "      <td>1093.39</td>\n",
       "      <td>1339</td>\n",
       "      <td>584.22</td>\n",
       "      <td>367.38</td>\n",
       "      <td>13.98</td>\n",
       "      <td>0.816572</td>\n",
       "    </tr>\n",
       "    <tr>\n",
       "      <td>2</td>\n",
       "      <td>Activision</td>\n",
       "      <td>721.41</td>\n",
       "      <td>966</td>\n",
       "      <td>426.01</td>\n",
       "      <td>213.72</td>\n",
       "      <td>6.54</td>\n",
       "      <td>0.746801</td>\n",
       "    </tr>\n",
       "    <tr>\n",
       "      <td>3</td>\n",
       "      <td>Sony Computer Entertainment</td>\n",
       "      <td>607.28</td>\n",
       "      <td>682</td>\n",
       "      <td>265.22</td>\n",
       "      <td>187.55</td>\n",
       "      <td>74.10</td>\n",
       "      <td>0.890440</td>\n",
       "    </tr>\n",
       "    <tr>\n",
       "      <td>4</td>\n",
       "      <td>Ubisoft</td>\n",
       "      <td>473.54</td>\n",
       "      <td>918</td>\n",
       "      <td>252.81</td>\n",
       "      <td>163.03</td>\n",
       "      <td>7.33</td>\n",
       "      <td>0.515839</td>\n",
       "    </tr>\n",
       "    <tr>\n",
       "      <td>5</td>\n",
       "      <td>Take-Two Interactive</td>\n",
       "      <td>399.30</td>\n",
       "      <td>412</td>\n",
       "      <td>220.47</td>\n",
       "      <td>117.95</td>\n",
       "      <td>5.83</td>\n",
       "      <td>0.969175</td>\n",
       "    </tr>\n",
       "    <tr>\n",
       "      <td>6</td>\n",
       "      <td>THQ</td>\n",
       "      <td>340.44</td>\n",
       "      <td>712</td>\n",
       "      <td>208.60</td>\n",
       "      <td>94.60</td>\n",
       "      <td>5.01</td>\n",
       "      <td>0.478146</td>\n",
       "    </tr>\n",
       "    <tr>\n",
       "      <td>7</td>\n",
       "      <td>Konami Digital Entertainment</td>\n",
       "      <td>278.56</td>\n",
       "      <td>823</td>\n",
       "      <td>88.91</td>\n",
       "      <td>68.62</td>\n",
       "      <td>90.93</td>\n",
       "      <td>0.338469</td>\n",
       "    </tr>\n",
       "    <tr>\n",
       "      <td>8</td>\n",
       "      <td>Sega</td>\n",
       "      <td>270.70</td>\n",
       "      <td>632</td>\n",
       "      <td>108.78</td>\n",
       "      <td>81.41</td>\n",
       "      <td>56.19</td>\n",
       "      <td>0.428323</td>\n",
       "    </tr>\n",
       "    <tr>\n",
       "      <td>9</td>\n",
       "      <td>Namco Bandai Games</td>\n",
       "      <td>253.65</td>\n",
       "      <td>928</td>\n",
       "      <td>69.38</td>\n",
       "      <td>42.61</td>\n",
       "      <td>126.84</td>\n",
       "      <td>0.273330</td>\n",
       "    </tr>\n",
       "  </tbody>\n",
       "</table>\n",
       "</div>"
      ],
      "text/plain": [
       "                      Publisher  Global_Sales  No. of game  NA_Sales  \\\n",
       "0                      Nintendo       1784.43          696    815.75   \n",
       "1               Electronic Arts       1093.39         1339    584.22   \n",
       "2                    Activision        721.41          966    426.01   \n",
       "3   Sony Computer Entertainment        607.28          682    265.22   \n",
       "4                       Ubisoft        473.54          918    252.81   \n",
       "5          Take-Two Interactive        399.30          412    220.47   \n",
       "6                           THQ        340.44          712    208.60   \n",
       "7  Konami Digital Entertainment        278.56          823     88.91   \n",
       "8                          Sega        270.70          632    108.78   \n",
       "9            Namco Bandai Games        253.65          928     69.38   \n",
       "\n",
       "   EU_Sales  JP_Sales  Sale_per_game  \n",
       "0    418.30    454.99       2.563836  \n",
       "1    367.38     13.98       0.816572  \n",
       "2    213.72      6.54       0.746801  \n",
       "3    187.55     74.10       0.890440  \n",
       "4    163.03      7.33       0.515839  \n",
       "5    117.95      5.83       0.969175  \n",
       "6     94.60      5.01       0.478146  \n",
       "7     68.62     90.93       0.338469  \n",
       "8     81.41     56.19       0.428323  \n",
       "9     42.61    126.84       0.273330  "
      ]
     },
     "execution_count": 124,
     "metadata": {},
     "output_type": "execute_result"
    }
   ],
   "source": [
    "df1.sort_values(by='Global_Sales',ascending=False).head(10)"
   ]
  },
  {
   "cell_type": "code",
   "execution_count": 227,
   "metadata": {},
   "outputs": [
    {
     "data": {
      "text/plain": [
       "<matplotlib.axes._subplots.AxesSubplot at 0x1bac70fd548>"
      ]
     },
     "execution_count": 227,
     "metadata": {},
     "output_type": "execute_result"
    },
    {
     "data": {
      "image/png": "[encoded data removed]",
      "text/plain": [
       "<Figure size 720x432 with 1 Axes>"
      ]
     },
     "metadata": {
      "needs_background": "light"
     },
     "output_type": "display_data"
    }
   ],
   "source": [
    "plot2 = df1.sort_values(by='Global_Sales',ascending=False).head(10)\n",
    "plot2.plot(kind='bar',x='Publisher',y='Global_Sales',figsize=(10,6))"
   ]
  },
  {
   "cell_type": "markdown",
   "metadata": {},
   "source": [
    "## Publishers with more than 400 games and high Sales per game ratio :"
   ]
  },
  {
   "cell_type": "code",
   "execution_count": 171,
   "metadata": {},
   "outputs": [
    {
     "data": {
      "text/html": [
       "<div>\n",
       "<style scoped>\n",
       "    .dataframe tbody tr th:only-of-type {\n",
       "        vertical-align: middle;\n",
       "    }\n",
       "\n",
       "    .dataframe tbody tr th {\n",
       "        vertical-align: top;\n",
       "    }\n",
       "\n",
       "    .dataframe thead th {\n",
       "        text-align: right;\n",
       "    }\n",
       "</style>\n",
       "<table border=\"1\" class=\"dataframe\">\n",
       "  <thead>\n",
       "    <tr style=\"text-align: right;\">\n",
       "      <th></th>\n",
       "      <th>Publisher</th>\n",
       "      <th>Global_Sales</th>\n",
       "      <th>No. of game</th>\n",
       "      <th>NA_Sales</th>\n",
       "      <th>EU_Sales</th>\n",
       "      <th>JP_Sales</th>\n",
       "      <th>Sale_per_game</th>\n",
       "    </tr>\n",
       "  </thead>\n",
       "  <tbody>\n",
       "    <tr>\n",
       "      <td>0</td>\n",
       "      <td>Nintendo</td>\n",
       "      <td>1784.43</td>\n",
       "      <td>696</td>\n",
       "      <td>815.75</td>\n",
       "      <td>418.30</td>\n",
       "      <td>454.99</td>\n",
       "      <td>2.563836</td>\n",
       "    </tr>\n",
       "    <tr>\n",
       "      <td>5</td>\n",
       "      <td>Take-Two Interactive</td>\n",
       "      <td>399.30</td>\n",
       "      <td>412</td>\n",
       "      <td>220.47</td>\n",
       "      <td>117.95</td>\n",
       "      <td>5.83</td>\n",
       "      <td>0.969175</td>\n",
       "    </tr>\n",
       "    <tr>\n",
       "      <td>3</td>\n",
       "      <td>Sony Computer Entertainment</td>\n",
       "      <td>607.28</td>\n",
       "      <td>682</td>\n",
       "      <td>265.22</td>\n",
       "      <td>187.55</td>\n",
       "      <td>74.10</td>\n",
       "      <td>0.890440</td>\n",
       "    </tr>\n",
       "    <tr>\n",
       "      <td>1</td>\n",
       "      <td>Electronic Arts</td>\n",
       "      <td>1093.39</td>\n",
       "      <td>1339</td>\n",
       "      <td>584.22</td>\n",
       "      <td>367.38</td>\n",
       "      <td>13.98</td>\n",
       "      <td>0.816572</td>\n",
       "    </tr>\n",
       "    <tr>\n",
       "      <td>2</td>\n",
       "      <td>Activision</td>\n",
       "      <td>721.41</td>\n",
       "      <td>966</td>\n",
       "      <td>426.01</td>\n",
       "      <td>213.72</td>\n",
       "      <td>6.54</td>\n",
       "      <td>0.746801</td>\n",
       "    </tr>\n",
       "    <tr>\n",
       "      <td>4</td>\n",
       "      <td>Ubisoft</td>\n",
       "      <td>473.54</td>\n",
       "      <td>918</td>\n",
       "      <td>252.81</td>\n",
       "      <td>163.03</td>\n",
       "      <td>7.33</td>\n",
       "      <td>0.515839</td>\n",
       "    </tr>\n",
       "    <tr>\n",
       "      <td>6</td>\n",
       "      <td>THQ</td>\n",
       "      <td>340.44</td>\n",
       "      <td>712</td>\n",
       "      <td>208.60</td>\n",
       "      <td>94.60</td>\n",
       "      <td>5.01</td>\n",
       "      <td>0.478146</td>\n",
       "    </tr>\n",
       "    <tr>\n",
       "      <td>8</td>\n",
       "      <td>Sega</td>\n",
       "      <td>270.70</td>\n",
       "      <td>632</td>\n",
       "      <td>108.78</td>\n",
       "      <td>81.41</td>\n",
       "      <td>56.19</td>\n",
       "      <td>0.428323</td>\n",
       "    </tr>\n",
       "    <tr>\n",
       "      <td>7</td>\n",
       "      <td>Konami Digital Entertainment</td>\n",
       "      <td>278.56</td>\n",
       "      <td>823</td>\n",
       "      <td>88.91</td>\n",
       "      <td>68.62</td>\n",
       "      <td>90.93</td>\n",
       "      <td>0.338469</td>\n",
       "    </tr>\n",
       "    <tr>\n",
       "      <td>9</td>\n",
       "      <td>Namco Bandai Games</td>\n",
       "      <td>253.65</td>\n",
       "      <td>928</td>\n",
       "      <td>69.38</td>\n",
       "      <td>42.61</td>\n",
       "      <td>126.84</td>\n",
       "      <td>0.273330</td>\n",
       "    </tr>\n",
       "  </tbody>\n",
       "</table>\n",
       "</div>"
      ],
      "text/plain": [
       "                      Publisher  Global_Sales  No. of game  NA_Sales  \\\n",
       "0                      Nintendo       1784.43          696    815.75   \n",
       "5          Take-Two Interactive        399.30          412    220.47   \n",
       "3   Sony Computer Entertainment        607.28          682    265.22   \n",
       "1               Electronic Arts       1093.39         1339    584.22   \n",
       "2                    Activision        721.41          966    426.01   \n",
       "4                       Ubisoft        473.54          918    252.81   \n",
       "6                           THQ        340.44          712    208.60   \n",
       "8                          Sega        270.70          632    108.78   \n",
       "7  Konami Digital Entertainment        278.56          823     88.91   \n",
       "9            Namco Bandai Games        253.65          928     69.38   \n",
       "\n",
       "   EU_Sales  JP_Sales  Sale_per_game  \n",
       "0    418.30    454.99       2.563836  \n",
       "5    117.95      5.83       0.969175  \n",
       "3    187.55     74.10       0.890440  \n",
       "1    367.38     13.98       0.816572  \n",
       "2    213.72      6.54       0.746801  \n",
       "4    163.03      7.33       0.515839  \n",
       "6     94.60      5.01       0.478146  \n",
       "8     81.41     56.19       0.428323  \n",
       "7     68.62     90.93       0.338469  \n",
       "9     42.61    126.84       0.273330  "
      ]
     },
     "execution_count": 171,
     "metadata": {},
     "output_type": "execute_result"
    }
   ],
   "source": [
    "df1[df1['No. of game'] >= 400].sort_values(by='Sale_per_game',ascending=False).head(10)"
   ]
  },
  {
   "cell_type": "code",
   "execution_count": 228,
   "metadata": {},
   "outputs": [
    {
     "data": {
      "text/plain": [
       "<matplotlib.axes._subplots.AxesSubplot at 0x1bac7161e48>"
      ]
     },
     "execution_count": 228,
     "metadata": {},
     "output_type": "execute_result"
    },
    {
     "data": {
      "image/png": "[encoded data removed]",
      "text/plain": [
       "<Figure size 720x432 with 1 Axes>"
      ]
     },
     "metadata": {
      "needs_background": "light"
     },
     "output_type": "display_data"
    }
   ],
   "source": [
    "plot3 = df1[df1['No. of game'] >= 400].sort_values(by='Sale_per_game',ascending=False).head(10)\n",
    "plot3.plot(kind='bar',x='Publisher',y='Sale_per_game',figsize=(10,6))"
   ]
  },
  {
   "cell_type": "markdown",
   "metadata": {},
   "source": [
    "### Genrewise most selling games :"
   ]
  },
  {
   "cell_type": "code",
   "execution_count": 123,
   "metadata": {},
   "outputs": [
    {
     "data": {
      "text/html": [
       "<div>\n",
       "<style scoped>\n",
       "    .dataframe tbody tr th:only-of-type {\n",
       "        vertical-align: middle;\n",
       "    }\n",
       "\n",
       "    .dataframe tbody tr th {\n",
       "        vertical-align: top;\n",
       "    }\n",
       "\n",
       "    .dataframe thead th {\n",
       "        text-align: right;\n",
       "    }\n",
       "</style>\n",
       "<table border=\"1\" class=\"dataframe\">\n",
       "  <thead>\n",
       "    <tr style=\"text-align: right;\">\n",
       "      <th></th>\n",
       "      <th>Genre</th>\n",
       "      <th>NA_Sales</th>\n",
       "      <th>EU_Sales</th>\n",
       "      <th>JP_Sales</th>\n",
       "      <th>Other_Sales</th>\n",
       "      <th>Global_Sales</th>\n",
       "      <th>No. of game</th>\n",
       "    </tr>\n",
       "  </thead>\n",
       "  <tbody>\n",
       "    <tr>\n",
       "      <td>0</td>\n",
       "      <td>Action</td>\n",
       "      <td>861.77</td>\n",
       "      <td>516.48</td>\n",
       "      <td>158.65</td>\n",
       "      <td>184.92</td>\n",
       "      <td>1722.84</td>\n",
       "      <td>3251</td>\n",
       "    </tr>\n",
       "    <tr>\n",
       "      <td>10</td>\n",
       "      <td>Sports</td>\n",
       "      <td>670.09</td>\n",
       "      <td>371.34</td>\n",
       "      <td>134.76</td>\n",
       "      <td>132.65</td>\n",
       "      <td>1309.24</td>\n",
       "      <td>2304</td>\n",
       "    </tr>\n",
       "    <tr>\n",
       "      <td>8</td>\n",
       "      <td>Shooter</td>\n",
       "      <td>575.16</td>\n",
       "      <td>310.45</td>\n",
       "      <td>38.18</td>\n",
       "      <td>101.90</td>\n",
       "      <td>1026.20</td>\n",
       "      <td>1282</td>\n",
       "    </tr>\n",
       "    <tr>\n",
       "      <td>7</td>\n",
       "      <td>Role-Playing</td>\n",
       "      <td>326.50</td>\n",
       "      <td>187.57</td>\n",
       "      <td>350.29</td>\n",
       "      <td>59.38</td>\n",
       "      <td>923.83</td>\n",
       "      <td>1470</td>\n",
       "    </tr>\n",
       "    <tr>\n",
       "      <td>4</td>\n",
       "      <td>Platform</td>\n",
       "      <td>445.99</td>\n",
       "      <td>200.65</td>\n",
       "      <td>130.65</td>\n",
       "      <td>51.51</td>\n",
       "      <td>829.13</td>\n",
       "      <td>875</td>\n",
       "    </tr>\n",
       "    <tr>\n",
       "      <td>3</td>\n",
       "      <td>Misc</td>\n",
       "      <td>396.92</td>\n",
       "      <td>211.77</td>\n",
       "      <td>106.67</td>\n",
       "      <td>73.92</td>\n",
       "      <td>789.87</td>\n",
       "      <td>1686</td>\n",
       "    </tr>\n",
       "    <tr>\n",
       "      <td>6</td>\n",
       "      <td>Racing</td>\n",
       "      <td>356.93</td>\n",
       "      <td>236.31</td>\n",
       "      <td>56.61</td>\n",
       "      <td>76.68</td>\n",
       "      <td>726.76</td>\n",
       "      <td>1225</td>\n",
       "    </tr>\n",
       "    <tr>\n",
       "      <td>2</td>\n",
       "      <td>Fighting</td>\n",
       "      <td>220.74</td>\n",
       "      <td>100.00</td>\n",
       "      <td>87.15</td>\n",
       "      <td>36.19</td>\n",
       "      <td>444.05</td>\n",
       "      <td>836</td>\n",
       "    </tr>\n",
       "    <tr>\n",
       "      <td>9</td>\n",
       "      <td>Simulation</td>\n",
       "      <td>181.78</td>\n",
       "      <td>113.02</td>\n",
       "      <td>63.54</td>\n",
       "      <td>31.36</td>\n",
       "      <td>389.98</td>\n",
       "      <td>848</td>\n",
       "    </tr>\n",
       "    <tr>\n",
       "      <td>5</td>\n",
       "      <td>Puzzle</td>\n",
       "      <td>122.01</td>\n",
       "      <td>50.52</td>\n",
       "      <td>56.68</td>\n",
       "      <td>12.47</td>\n",
       "      <td>242.21</td>\n",
       "      <td>570</td>\n",
       "    </tr>\n",
       "    <tr>\n",
       "      <td>1</td>\n",
       "      <td>Adventure</td>\n",
       "      <td>101.93</td>\n",
       "      <td>63.74</td>\n",
       "      <td>51.99</td>\n",
       "      <td>16.70</td>\n",
       "      <td>234.59</td>\n",
       "      <td>1274</td>\n",
       "    </tr>\n",
       "    <tr>\n",
       "      <td>11</td>\n",
       "      <td>Strategy</td>\n",
       "      <td>67.83</td>\n",
       "      <td>44.84</td>\n",
       "      <td>49.10</td>\n",
       "      <td>11.23</td>\n",
       "      <td>173.27</td>\n",
       "      <td>670</td>\n",
       "    </tr>\n",
       "  </tbody>\n",
       "</table>\n",
       "</div>"
      ],
      "text/plain": [
       "           Genre  NA_Sales  EU_Sales  JP_Sales  Other_Sales  Global_Sales  \\\n",
       "0         Action    861.77    516.48    158.65       184.92       1722.84   \n",
       "10        Sports    670.09    371.34    134.76       132.65       1309.24   \n",
       "8        Shooter    575.16    310.45     38.18       101.90       1026.20   \n",
       "7   Role-Playing    326.50    187.57    350.29        59.38        923.83   \n",
       "4       Platform    445.99    200.65    130.65        51.51        829.13   \n",
       "3           Misc    396.92    211.77    106.67        73.92        789.87   \n",
       "6         Racing    356.93    236.31     56.61        76.68        726.76   \n",
       "2       Fighting    220.74    100.00     87.15        36.19        444.05   \n",
       "9     Simulation    181.78    113.02     63.54        31.36        389.98   \n",
       "5         Puzzle    122.01     50.52     56.68        12.47        242.21   \n",
       "1      Adventure    101.93     63.74     51.99        16.70        234.59   \n",
       "11      Strategy     67.83     44.84     49.10        11.23        173.27   \n",
       "\n",
       "    No. of game  \n",
       "0          3251  \n",
       "10         2304  \n",
       "8          1282  \n",
       "7          1470  \n",
       "4           875  \n",
       "3          1686  \n",
       "6          1225  \n",
       "2           836  \n",
       "9           848  \n",
       "5           570  \n",
       "1          1274  \n",
       "11          670  "
      ]
     },
     "execution_count": 123,
     "metadata": {},
     "output_type": "execute_result"
    }
   ],
   "source": [
    "df.groupby('Genre').sum().drop(['Rank','Year'],axis=1).reset_index().sort_values(by='Global_Sales',ascending=False)"
   ]
  },
  {
   "cell_type": "markdown",
   "metadata": {},
   "source": [
    "<b>Action genre games bring high Sales globally.</b>"
   ]
  },
  {
   "cell_type": "code",
   "execution_count": 229,
   "metadata": {},
   "outputs": [
    {
     "data": {
      "text/plain": [
       "<matplotlib.axes._subplots.AxesSubplot at 0x1bac715fdc8>"
      ]
     },
     "execution_count": 229,
     "metadata": {},
     "output_type": "execute_result"
    },
    {
     "data": {
      "image/png": "[encoded data removed]",
      "text/plain": [
       "<Figure size 1080x432 with 1 Axes>"
      ]
     },
     "metadata": {
      "needs_background": "light"
     },
     "output_type": "display_data"
    }
   ],
   "source": [
    "plot4 = df.groupby('Genre').sum().drop(['Rank','Year'],axis=1).reset_index().sort_values(by='Global_Sales',ascending=False)\n",
    "plot4.plot(kind='bar',x='Genre',y=['NA_Sales','EU_Sales','JP_Sales'],figsize=(15,6))"
   ]
  },
  {
   "cell_type": "code",
   "execution_count": 202,
   "metadata": {},
   "outputs": [
    {
     "data": {
      "text/plain": [
       "<matplotlib.axes._subplots.AxesSubplot at 0x1bab8f010c8>"
      ]
     },
     "execution_count": 202,
     "metadata": {},
     "output_type": "execute_result"
    },
    {
     "data": {
      "image/png": "[encoded data removed]",
      "text/plain": [
       "<Figure size 720x432 with 1 Axes>"
      ]
     },
     "metadata": {
      "needs_background": "light"
     },
     "output_type": "display_data"
    }
   ],
   "source": [
    "plot4.plot(kind='bar',x='Genre',y='Global_Sales',figsize=(10,6))"
   ]
  },
  {
   "cell_type": "code",
   "execution_count": 201,
   "metadata": {},
   "outputs": [
    {
     "data": {
      "text/plain": [
       "<matplotlib.axes._subplots.AxesSubplot at 0x1bab8ff1a48>"
      ]
     },
     "execution_count": 201,
     "metadata": {},
     "output_type": "execute_result"
    },
    {
     "data": {
      "image/png": "[encoded data removed]",
      "text/plain": [
       "<Figure size 720x432 with 1 Axes>"
      ]
     },
     "metadata": {
      "needs_background": "light"
     },
     "output_type": "display_data"
    }
   ],
   "source": [
    "plot4.plot(kind='bar',x='Genre',y='No. of game',figsize=(10,6))"
   ]
  },
  {
   "cell_type": "markdown",
   "metadata": {},
   "source": [
    "### Yearwise sales globally :"
   ]
  },
  {
   "cell_type": "code",
   "execution_count": 207,
   "metadata": {},
   "outputs": [
    {
     "data": {
      "text/html": [
       "<div>\n",
       "<style scoped>\n",
       "    .dataframe tbody tr th:only-of-type {\n",
       "        vertical-align: middle;\n",
       "    }\n",
       "\n",
       "    .dataframe tbody tr th {\n",
       "        vertical-align: top;\n",
       "    }\n",
       "\n",
       "    .dataframe thead th {\n",
       "        text-align: right;\n",
       "    }\n",
       "</style>\n",
       "<table border=\"1\" class=\"dataframe\">\n",
       "  <thead>\n",
       "    <tr style=\"text-align: right;\">\n",
       "      <th></th>\n",
       "      <th>Year</th>\n",
       "      <th>NA_Sales</th>\n",
       "      <th>EU_Sales</th>\n",
       "      <th>JP_Sales</th>\n",
       "      <th>Other_Sales</th>\n",
       "      <th>Global_Sales</th>\n",
       "      <th>No. of game</th>\n",
       "    </tr>\n",
       "  </thead>\n",
       "  <tbody>\n",
       "    <tr>\n",
       "      <td>0</td>\n",
       "      <td>2008</td>\n",
       "      <td>351.44</td>\n",
       "      <td>184.40</td>\n",
       "      <td>60.26</td>\n",
       "      <td>82.39</td>\n",
       "      <td>678.90</td>\n",
       "      <td>1428</td>\n",
       "    </tr>\n",
       "    <tr>\n",
       "      <td>1</td>\n",
       "      <td>2009</td>\n",
       "      <td>338.85</td>\n",
       "      <td>191.59</td>\n",
       "      <td>61.89</td>\n",
       "      <td>74.77</td>\n",
       "      <td>667.30</td>\n",
       "      <td>1431</td>\n",
       "    </tr>\n",
       "    <tr>\n",
       "      <td>2</td>\n",
       "      <td>2007</td>\n",
       "      <td>311.18</td>\n",
       "      <td>160.18</td>\n",
       "      <td>60.29</td>\n",
       "      <td>77.58</td>\n",
       "      <td>609.92</td>\n",
       "      <td>1201</td>\n",
       "    </tr>\n",
       "    <tr>\n",
       "      <td>3</td>\n",
       "      <td>2010</td>\n",
       "      <td>304.24</td>\n",
       "      <td>176.57</td>\n",
       "      <td>59.49</td>\n",
       "      <td>59.90</td>\n",
       "      <td>600.29</td>\n",
       "      <td>1257</td>\n",
       "    </tr>\n",
       "    <tr>\n",
       "      <td>4</td>\n",
       "      <td>2006</td>\n",
       "      <td>263.12</td>\n",
       "      <td>129.24</td>\n",
       "      <td>73.73</td>\n",
       "      <td>54.43</td>\n",
       "      <td>521.04</td>\n",
       "      <td>1008</td>\n",
       "    </tr>\n",
       "    <tr>\n",
       "      <td>5</td>\n",
       "      <td>2011</td>\n",
       "      <td>241.00</td>\n",
       "      <td>167.31</td>\n",
       "      <td>53.04</td>\n",
       "      <td>54.39</td>\n",
       "      <td>515.80</td>\n",
       "      <td>1136</td>\n",
       "    </tr>\n",
       "    <tr>\n",
       "      <td>6</td>\n",
       "      <td>2005</td>\n",
       "      <td>241.58</td>\n",
       "      <td>121.56</td>\n",
       "      <td>54.28</td>\n",
       "      <td>40.55</td>\n",
       "      <td>458.51</td>\n",
       "      <td>936</td>\n",
       "    </tr>\n",
       "    <tr>\n",
       "      <td>7</td>\n",
       "      <td>2004</td>\n",
       "      <td>218.80</td>\n",
       "      <td>105.92</td>\n",
       "      <td>41.65</td>\n",
       "      <td>47.24</td>\n",
       "      <td>414.01</td>\n",
       "      <td>744</td>\n",
       "    </tr>\n",
       "    <tr>\n",
       "      <td>8</td>\n",
       "      <td>2002</td>\n",
       "      <td>216.19</td>\n",
       "      <td>109.74</td>\n",
       "      <td>41.76</td>\n",
       "      <td>27.28</td>\n",
       "      <td>395.52</td>\n",
       "      <td>829</td>\n",
       "    </tr>\n",
       "    <tr>\n",
       "      <td>9</td>\n",
       "      <td>2013</td>\n",
       "      <td>154.77</td>\n",
       "      <td>125.80</td>\n",
       "      <td>47.59</td>\n",
       "      <td>39.82</td>\n",
       "      <td>368.11</td>\n",
       "      <td>546</td>\n",
       "    </tr>\n",
       "    <tr>\n",
       "      <td>10</td>\n",
       "      <td>2012</td>\n",
       "      <td>154.93</td>\n",
       "      <td>118.76</td>\n",
       "      <td>51.74</td>\n",
       "      <td>37.82</td>\n",
       "      <td>363.49</td>\n",
       "      <td>655</td>\n",
       "    </tr>\n",
       "    <tr>\n",
       "      <td>11</td>\n",
       "      <td>2003</td>\n",
       "      <td>193.59</td>\n",
       "      <td>103.81</td>\n",
       "      <td>34.20</td>\n",
       "      <td>26.01</td>\n",
       "      <td>357.85</td>\n",
       "      <td>775</td>\n",
       "    </tr>\n",
       "    <tr>\n",
       "      <td>12</td>\n",
       "      <td>2014</td>\n",
       "      <td>131.97</td>\n",
       "      <td>125.63</td>\n",
       "      <td>39.46</td>\n",
       "      <td>40.02</td>\n",
       "      <td>337.03</td>\n",
       "      <td>580</td>\n",
       "    </tr>\n",
       "    <tr>\n",
       "      <td>13</td>\n",
       "      <td>2001</td>\n",
       "      <td>173.98</td>\n",
       "      <td>94.89</td>\n",
       "      <td>39.86</td>\n",
       "      <td>22.76</td>\n",
       "      <td>331.47</td>\n",
       "      <td>482</td>\n",
       "    </tr>\n",
       "    <tr>\n",
       "      <td>14</td>\n",
       "      <td>2015</td>\n",
       "      <td>102.82</td>\n",
       "      <td>97.71</td>\n",
       "      <td>33.72</td>\n",
       "      <td>30.01</td>\n",
       "      <td>264.44</td>\n",
       "      <td>614</td>\n",
       "    </tr>\n",
       "  </tbody>\n",
       "</table>\n",
       "</div>"
      ],
      "text/plain": [
       "    Year  NA_Sales  EU_Sales  JP_Sales  Other_Sales  Global_Sales  No. of game\n",
       "0   2008    351.44    184.40     60.26        82.39        678.90         1428\n",
       "1   2009    338.85    191.59     61.89        74.77        667.30         1431\n",
       "2   2007    311.18    160.18     60.29        77.58        609.92         1201\n",
       "3   2010    304.24    176.57     59.49        59.90        600.29         1257\n",
       "4   2006    263.12    129.24     73.73        54.43        521.04         1008\n",
       "5   2011    241.00    167.31     53.04        54.39        515.80         1136\n",
       "6   2005    241.58    121.56     54.28        40.55        458.51          936\n",
       "7   2004    218.80    105.92     41.65        47.24        414.01          744\n",
       "8   2002    216.19    109.74     41.76        27.28        395.52          829\n",
       "9   2013    154.77    125.80     47.59        39.82        368.11          546\n",
       "10  2012    154.93    118.76     51.74        37.82        363.49          655\n",
       "11  2003    193.59    103.81     34.20        26.01        357.85          775\n",
       "12  2014    131.97    125.63     39.46        40.02        337.03          580\n",
       "13  2001    173.98     94.89     39.86        22.76        331.47          482\n",
       "14  2015    102.82     97.71     33.72        30.01        264.44          614"
      ]
     },
     "execution_count": 207,
     "metadata": {},
     "output_type": "execute_result"
    }
   ],
   "source": [
    "df.groupby('Year').sum().drop(['Rank'],axis=1).sort_values(by='Global_Sales',ascending=False).head(15).reset_index()"
   ]
  },
  {
   "cell_type": "code",
   "execution_count": 234,
   "metadata": {},
   "outputs": [
    {
     "data": {
      "text/plain": [
       "<matplotlib.axes._subplots.AxesSubplot at 0x1bac8275d48>"
      ]
     },
     "execution_count": 234,
     "metadata": {},
     "output_type": "execute_result"
    },
    {
     "data": {
      "image/png": "[encoded data removed]",
      "text/plain": [
       "<Figure size 1080x432 with 1 Axes>"
      ]
     },
     "metadata": {
      "needs_background": "light"
     },
     "output_type": "display_data"
    }
   ],
   "source": [
    "plot5 = df.groupby('Year').sum().drop(['Rank'],axis=1).sort_values(by='Global_Sales',ascending=False).head(15).reset_index()\n",
    "plot5.plot(kind='bar',x='Year',y=['NA_Sales','EU_Sales','JP_Sales'],figsize=(15,6))"
   ]
  },
  {
   "cell_type": "code",
   "execution_count": 236,
   "metadata": {},
   "outputs": [
    {
     "data": {
      "text/plain": [
       "<matplotlib.axes._subplots.AxesSubplot at 0x1bac8a93708>"
      ]
     },
     "execution_count": 236,
     "metadata": {},
     "output_type": "execute_result"
    },
    {
     "data": {
      "image/png": "[encoded data removed]",
      "text/plain": [
       "<Figure size 1080x432 with 1 Axes>"
      ]
     },
     "metadata": {
      "needs_background": "light"
     },
     "output_type": "display_data"
    }
   ],
   "source": [
    "plot5.plot(kind='bar',x='Year',y=['No. of game','Global_Sales'],figsize=(15,6))"
   ]
  },
  {
   "cell_type": "code",
   "execution_count": 212,
   "metadata": {},
   "outputs": [
    {
     "data": {
      "text/html": [
       "<div>\n",
       "<style scoped>\n",
       "    .dataframe tbody tr th:only-of-type {\n",
       "        vertical-align: middle;\n",
       "    }\n",
       "\n",
       "    .dataframe tbody tr th {\n",
       "        vertical-align: top;\n",
       "    }\n",
       "\n",
       "    .dataframe thead th {\n",
       "        text-align: right;\n",
       "    }\n",
       "</style>\n",
       "<table border=\"1\" class=\"dataframe\">\n",
       "  <thead>\n",
       "    <tr style=\"text-align: right;\">\n",
       "      <th></th>\n",
       "      <th>Rank</th>\n",
       "      <th>Name</th>\n",
       "      <th>Platform</th>\n",
       "      <th>Year</th>\n",
       "      <th>Genre</th>\n",
       "      <th>Publisher</th>\n",
       "      <th>NA_Sales</th>\n",
       "      <th>EU_Sales</th>\n",
       "      <th>JP_Sales</th>\n",
       "      <th>Other_Sales</th>\n",
       "      <th>Global_Sales</th>\n",
       "      <th>No. of game</th>\n",
       "    </tr>\n",
       "  </thead>\n",
       "  <tbody>\n",
       "    <tr>\n",
       "      <td>0</td>\n",
       "      <td>1</td>\n",
       "      <td>Wii Sports</td>\n",
       "      <td>Wii</td>\n",
       "      <td>2006</td>\n",
       "      <td>Sports</td>\n",
       "      <td>Nintendo</td>\n",
       "      <td>41.49</td>\n",
       "      <td>29.02</td>\n",
       "      <td>3.77</td>\n",
       "      <td>8.46</td>\n",
       "      <td>82.74</td>\n",
       "      <td>1</td>\n",
       "    </tr>\n",
       "    <tr>\n",
       "      <td>1</td>\n",
       "      <td>2</td>\n",
       "      <td>Super Mario Bros.</td>\n",
       "      <td>NES</td>\n",
       "      <td>1985</td>\n",
       "      <td>Platform</td>\n",
       "      <td>Nintendo</td>\n",
       "      <td>29.08</td>\n",
       "      <td>3.58</td>\n",
       "      <td>6.81</td>\n",
       "      <td>0.77</td>\n",
       "      <td>40.24</td>\n",
       "      <td>1</td>\n",
       "    </tr>\n",
       "    <tr>\n",
       "      <td>2</td>\n",
       "      <td>3</td>\n",
       "      <td>Mario Kart Wii</td>\n",
       "      <td>Wii</td>\n",
       "      <td>2008</td>\n",
       "      <td>Racing</td>\n",
       "      <td>Nintendo</td>\n",
       "      <td>15.85</td>\n",
       "      <td>12.88</td>\n",
       "      <td>3.79</td>\n",
       "      <td>3.31</td>\n",
       "      <td>35.82</td>\n",
       "      <td>1</td>\n",
       "    </tr>\n",
       "    <tr>\n",
       "      <td>3</td>\n",
       "      <td>4</td>\n",
       "      <td>Wii Sports Resort</td>\n",
       "      <td>Wii</td>\n",
       "      <td>2009</td>\n",
       "      <td>Sports</td>\n",
       "      <td>Nintendo</td>\n",
       "      <td>15.75</td>\n",
       "      <td>11.01</td>\n",
       "      <td>3.28</td>\n",
       "      <td>2.96</td>\n",
       "      <td>33.00</td>\n",
       "      <td>1</td>\n",
       "    </tr>\n",
       "    <tr>\n",
       "      <td>4</td>\n",
       "      <td>5</td>\n",
       "      <td>Pokemon Red/Pokemon Blue</td>\n",
       "      <td>GB</td>\n",
       "      <td>1996</td>\n",
       "      <td>Role-Playing</td>\n",
       "      <td>Nintendo</td>\n",
       "      <td>11.27</td>\n",
       "      <td>8.89</td>\n",
       "      <td>10.22</td>\n",
       "      <td>1.00</td>\n",
       "      <td>31.37</td>\n",
       "      <td>1</td>\n",
       "    </tr>\n",
       "  </tbody>\n",
       "</table>\n",
       "</div>"
      ],
      "text/plain": [
       "   Rank                      Name Platform  Year         Genre Publisher  \\\n",
       "0     1                Wii Sports      Wii  2006        Sports  Nintendo   \n",
       "1     2         Super Mario Bros.      NES  1985      Platform  Nintendo   \n",
       "2     3            Mario Kart Wii      Wii  2008        Racing  Nintendo   \n",
       "3     4         Wii Sports Resort      Wii  2009        Sports  Nintendo   \n",
       "4     5  Pokemon Red/Pokemon Blue       GB  1996  Role-Playing  Nintendo   \n",
       "\n",
       "   NA_Sales  EU_Sales  JP_Sales  Other_Sales  Global_Sales  No. of game  \n",
       "0     41.49     29.02      3.77         8.46         82.74            1  \n",
       "1     29.08      3.58      6.81         0.77         40.24            1  \n",
       "2     15.85     12.88      3.79         3.31         35.82            1  \n",
       "3     15.75     11.01      3.28         2.96         33.00            1  \n",
       "4     11.27      8.89     10.22         1.00         31.37            1  "
      ]
     },
     "execution_count": 212,
     "metadata": {},
     "output_type": "execute_result"
    }
   ],
   "source": [
    "df.head()"
   ]
  },
  {
   "cell_type": "markdown",
   "metadata": {},
   "source": [
    "### Top 100 game's platforms :"
   ]
  },
  {
   "cell_type": "code",
   "execution_count": 238,
   "metadata": {},
   "outputs": [
    {
     "data": {
      "text/plain": [
       "<matplotlib.axes._subplots.AxesSubplot at 0x1bac8af5648>"
      ]
     },
     "execution_count": 238,
     "metadata": {},
     "output_type": "execute_result"
    },
    {
     "data": {
      "image/png": "[encoded data removed]",
      "text/plain": [
       "<Figure size 720x432 with 1 Axes>"
      ]
     },
     "metadata": {
      "needs_background": "light"
     },
     "output_type": "display_data"
    }
   ],
   "source": [
    "plot6 = df.head(100)['Platform'].value_counts()\n",
    "plot6.plot(kind='bar',figsize=(10,6))"
   ]
  },
  {
   "cell_type": "code",
   "execution_count": 217,
   "metadata": {},
   "outputs": [
    {
     "data": {
      "text/plain": [
       "31"
      ]
     },
     "execution_count": 217,
     "metadata": {},
     "output_type": "execute_result"
    }
   ],
   "source": [
    "df['Platform'].nunique()"
   ]
  },
  {
   "cell_type": "code",
   "execution_count": null,
   "metadata": {},
   "outputs": [],
   "source": []
  }
 ],
 "metadata": {
  "kernelspec": {
   "display_name": "Python 3",
   "language": "python",
   "name": "python3"
  },
  "language_info": {
   "codemirror_mode": {
    "name": "ipython",
    "version": 3
   },
   "file_extension": ".py",
   "mimetype": "text/x-python",
   "name": "python",
   "nbconvert_exporter": "python",
   "pygments_lexer": "ipython3",
   "version": "3.7.4"
  }
 },
 "nbformat": 4,
 "nbformat_minor": 2
}
